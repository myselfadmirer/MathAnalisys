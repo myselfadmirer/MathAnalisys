{
 "cells": [
  {
   "cell_type": "code",
   "execution_count": 1,
   "metadata": {},
   "outputs": [],
   "source": [
    "import numpy as np\n",
    "from matplotlib import pyplot as plt\n",
    "%matplotlib inline"
   ]
  },
  {
   "cell_type": "markdown",
   "metadata": {},
   "source": [
    "## Тема “Предел функции”"
   ]
  },
  {
   "cell_type": "markdown",
   "metadata": {},
   "source": [
    "### 1. Предложить пример функции, не имеющей предела в нуле и в бесконечностях."
   ]
  },
  {
   "cell_type": "markdown",
   "metadata": {},
   "source": [
    "### $f(x)=\\frac{x^2}{x}$"
   ]
  },
  {
   "cell_type": "markdown",
   "metadata": {},
   "source": [
    "### 2. Привести пример функции, не имеющей предела в точке, но определенной в ней."
   ]
  },
  {
   "cell_type": "markdown",
   "metadata": {},
   "source": [
    "### $f(x)=sign(x)$"
   ]
  },
  {
   "cell_type": "markdown",
   "metadata": {},
   "source": [
    "### 3. Исследовать функцию $f(x)=x^3-x^2$ по плану:\n",
    "###        a. Область задания и область значений.\n",
    "### $x \\in (-\\infty; +\\infty), f(x) \\in (-\\infty; +\\infty)$\n",
    "###        b. Нули функции и их кратность.\n",
    "### $f(x)=0$ при $x=0$ - кратность 2 и $x=1$ - кратность 1\n",
    "###        c. Отрезки знакопостоянства.\n",
    "### $(-\\infty;0),\\ (0;\\infty)$\n",
    "###        d. Интервалы монотонности.\n",
    "### $(-\\infty;0),\\ (0;1),\\ (0;\\infty)$\n",
    "###        e. Четность функции.\n",
    "### Общего вида\n",
    "###        f. Ограниченность.\n",
    "### Неограниченная\n",
    "###        g. Периодичность.\n",
    "### Непериодическая"
   ]
  },
  {
   "cell_type": "code",
   "execution_count": 2,
   "metadata": {},
   "outputs": [
    {
     "data": {
      "image/png": "[encoded data removed]",
      "text/plain": [
       "<Figure size 432x288 with 1 Axes>"
      ]
     },
     "metadata": {
      "needs_background": "light"
     },
     "output_type": "display_data"
    }
   ],
   "source": [
    "n = 10\n",
    "x = np.arange(- n , n + 1)\n",
    "y = x**3 - x**2\n",
    "plt.plot(x, y)\n",
    "plt.grid(True)"
   ]
  },
  {
   "cell_type": "markdown",
   "metadata": {},
   "source": [
    "### 4. Найти предел:"
   ]
  },
  {
   "cell_type": "markdown",
   "metadata": {},
   "source": [
    "### a. $$\\lim_{n \\to 0} \\frac{3x^3-2x^2}{4x^2}=(\\frac0{0})=\\frac{x^2(3x-2)}{4x^2}=\\frac{3x-2}4=-\\frac2{4}=-\\frac1{2}$$"
   ]
  },
  {
   "cell_type": "markdown",
   "metadata": {},
   "source": [
    "### b. $$\\lim_{x \\to 0} \\frac{\\sqrt{1+x}-1}{\\sqrt[3]{1+x}-1}=(\\frac0{0})=\\frac{\\sqrt{1+x}-1}{\\sqrt[3]{1+x}-1}\\cdot\\frac{\\sqrt{1+x}+1}{\\sqrt{1+x}+1}\\cdot\\frac{({\\sqrt[3]{1+x}})^2+\\sqrt[3]{1+x}+1}{({\\sqrt[3]{1+x}})^2+\\sqrt[3]{1+x}+1}=\\frac{(\\sqrt{1+x})^2-1^2}{(\\sqrt[3]{1+x})^3-1^3}\\cdot\\frac{({\\sqrt[3]{1+x}})^2+\\sqrt[3]{1+x}+1}{\\sqrt{1+x}+1}=\\frac{({\\sqrt[3]{1+0}})^2+\\sqrt[3]{1+0}+1}{\\sqrt{1+0}+1}=\\frac3{2}$$"
   ]
  },
  {
   "cell_type": "markdown",
   "metadata": {},
   "source": [
    "### c. $$\\lim_{x \\to \\infty} (\\frac{x+3}{x})^{4x+1}=(1)^{\\infty}=\\lim_{x \\to \\infty}(1+\\frac3{x})^{\\frac{x}{3}\\cdot\\frac3{x}\\cdot(4x+1)}=e^{\\lim_{x \\to \\infty}\\frac3{x}\\cdot(4x+1)}=e^{\\lim_{x \\to \\infty}\\frac{12x+3}{x}}=e^{12}$$\n"
   ]
  },
  {
   "cell_type": "markdown",
   "metadata": {},
   "source": [
    "## Тема “Теоремы о пределах”"
   ]
  },
  {
   "cell_type": "markdown",
   "metadata": {},
   "source": [
    "### 1. Найти предел"
   ]
  },
  {
   "cell_type": "markdown",
   "metadata": {},
   "source": [
    "### a. $$\\lim_{x \\to 0} \\frac{\\sin(2x)}{4x}=\\frac1{2}$$"
   ]
  },
  {
   "cell_type": "markdown",
   "metadata": {},
   "source": [
    "### b. $$\\lim_{x \\to 0} \\frac{x}{\\sin(x)}=1$$"
   ]
  },
  {
   "cell_type": "markdown",
   "metadata": {},
   "source": [
    "### c. $$\\lim_{x \\to 0} \\frac{x}{\\arcsin(x)}=1$$"
   ]
  },
  {
   "cell_type": "markdown",
   "metadata": {},
   "source": [
    "### d. $$\\lim_{x \\to \\infty} (\\frac{4x+3}{4x-3})^{6x}=(\\frac{4x-3+3+3}{4x-3})^{6x}=(1+\\frac{6}{4x-3})^{\\frac{4x-3}{6}\\cdot \\frac{6}{4x-3}\\cdot {6x}}=e^{\\lim_{x \\to \\infty} \\frac{6\\cdot6x}{4x-3}}=e^{9}$$"
   ]
  },
  {
   "cell_type": "markdown",
   "metadata": {},
   "source": [
    "### e. $$\\lim_{x \\to \\infty} \\frac{sin{x}+ln{x}}{x}=\\frac{sin{x}}{x}+\\frac{ln{x}}{x}=0+0=0$$"
   ]
  },
  {
   "cell_type": "markdown",
   "metadata": {},
   "source": [
    "### f. $$\\lim_{x \\to 0} \\frac{sin{x}+ln{x}}{x}=\\frac{sin{x}}{x}+\\frac{ln{x}}{x}=1+\\infty=\\infty$$"
   ]
  }
 ],
 "metadata": {
  "kernelspec": {
   "display_name": "Python 3",
   "language": "python",
   "name": "python3"
  },
  "language_info": {
   "codemirror_mode": {
    "name": "ipython",
    "version": 3
   },
   "file_extension": ".py",
   "mimetype": "text/x-python",
   "name": "python",
   "nbconvert_exporter": "python",
   "pygments_lexer": "ipython3",
   "version": "3.8.5"
  }
 },
 "nbformat": 4,
 "nbformat_minor": 4
}
