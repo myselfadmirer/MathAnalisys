{
 "cells": [
  {
   "cell_type": "markdown",
   "metadata": {},
   "source": [
    "## Тема “Ряды”"
   ]
  },
  {
   "cell_type": "markdown",
   "metadata": {},
   "source": [
    "### 1. Исследовать ряд на сходимость, используя признак д’Аламбера:"
   ]
  },
  {
   "cell_type": "markdown",
   "metadata": {},
   "source": [
    "### $$\\sum_{n=1}^\\infty\\ \\frac{n^n}{(n!)^2}$$"
   ]
  },
  {
   "cell_type": "markdown",
   "metadata": {},
   "source": [
    "### $$\\lim_{n \\to \\infty}\\ \\frac{(n+1)^{n+1}}{((n+1)!)^2}\\ :\\ \\frac{n^n}{(n!)^2}=\\lim_{n \\to \\infty}\\ \\frac{(n+1)^{n+1}(n!)^2}{((n+1)!)^2n^n}=\\lim_{n \\to \\infty}\\ \\frac{(n+1)^2(n+1)^{n-1}(n!)^2}{(n!)^2(n+1)^2n^n}=\\lim_{n \\to \\infty}\\ \\frac{(n+1)^{n-1}}{n^n}=0$$ \n",
    "### (т.к. степень числителя меньше степени знаменателя)\n",
    "### \n",
    "### $q=0<1\\ =>$ последовательность сходится"
   ]
  },
  {
   "cell_type": "markdown",
   "metadata": {},
   "source": [
    "### 2. Исследовать ряд на сходимость, используя радикальный признак Коши:"
   ]
  },
  {
   "cell_type": "markdown",
   "metadata": {},
   "source": [
    "### $$\\sum_{n=1}^\\infty\\ \\frac{n}{2^n}$$"
   ]
  },
  {
   "cell_type": "markdown",
   "metadata": {},
   "source": [
    "### $$\\lim_{n \\to +\\infty}\\ \\sqrt[n]{\\frac{n}{2^n}}=\\lim_{n \\to +\\infty}\\ \\frac{\\sqrt[n]{n}}{\\sqrt[n]{2^n}}=\\frac1{2}$$\n",
    "### $q=\\frac1{2}<1\\ =>$ последовательность сходится"
   ]
  },
  {
   "cell_type": "markdown",
   "metadata": {},
   "source": [
    "### 3. Исследовать ряд на сходимость, используя признак Лейбница:"
   ]
  },
  {
   "cell_type": "markdown",
   "metadata": {},
   "source": [
    "### $$\\sum_{n=1}^\\infty\\ \\frac{(-1)^n}{n+\\ln n}$$"
   ]
  },
  {
   "cell_type": "markdown",
   "metadata": {},
   "source": [
    "### $$\\lvert\\frac{(-1)^n}{n+\\ln n}\\rvert-\\lvert\\frac{(-1)^{n+1}}{n+1+\\ln (n+1)}\\rvert\\ge0$$\n",
    "### $$\\lim_{n \\to +\\infty}\\ \\frac{1}{n+\\ln n}-\\frac{1}{n+1+\\ln (n+1)}=\\lim_{n \\to +\\infty}\\ \\frac{1+\\ln (n+1) - \\ln n}{(n+\\ln n)(1+n+\\ln(n+1))}=\\lim_{n \\to +\\infty}\\ \\frac1{(n+\\ln n)(1+n+\\ln(n+1))}=0$$\n",
    "\n",
    "### условие выполняется $=>$ последовательность сходится"
   ]
  },
  {
   "cell_type": "markdown",
   "metadata": {},
   "source": [
    "### 4. Исследовать ряд на сходимость, используя признак Раабе:"
   ]
  },
  {
   "cell_type": "markdown",
   "metadata": {},
   "source": [
    "### $$\\sum_{n=1}^\\infty\\ \\frac{3^n}{2^n}$$"
   ]
  },
  {
   "cell_type": "markdown",
   "metadata": {},
   "source": [
    "### $$\\lim_{n \\to \\infty}\\ n\\cdot (\\frac{3^n}{2^n}\\ :\\ \\frac{3^{n+1}}{2^{n+1}}-1)=\\lim_{n \\to \\infty}\\ n\\cdot (\\frac{3^n\\cdot 2^n\\cdot 2}{2^n \\cdot 3^n \\cdot 3}-1)=\\lim_{n \\to \\infty}-\\frac1{3}\\cdot n=-\\infty$$\n",
    "\n",
    "\n",
    "\n",
    "### $D<1\\ =>$ последовательность расходится"
   ]
  },
  {
   "cell_type": "markdown",
   "metadata": {},
   "source": [
    "### 5. Разложить функцию по Тейлору в единице:"
   ]
  },
  {
   "cell_type": "markdown",
   "metadata": {},
   "source": [
    "### $f(x)=\\ln(16x^2)$"
   ]
  },
  {
   "cell_type": "markdown",
   "metadata": {},
   "source": [
    "### $f(1)=\\ln(16)$\n",
    "### $f'(x)=\\frac2{x}$\n",
    "### $f''(x)=-\\frac2{x^2}$\n",
    "### $f^{(3)}(x)=\\frac4{x^3}$\n",
    "### $f^{(4)}(x)=-\\frac12{x^4}$ и т.д.\n",
    "### $f(x)=\\ln(16x^2)= \\ln(16)+\\frac{2(x-1)}{1!}-\\frac{2(x-1)^2}{2!}+\\frac{4(x-1)^3}{3!}-\\frac{12(x-1)^4}{4!}...=\\ln(16)+\\frac{2(x-1)}{1}-\\frac{2(x-1)^2}{2}+\\frac{2(x-1)^3}{3}-\\frac{2(x-1)^4}{4}...-\\frac{2(-1)^n(x-1)^n}{n}$\n",
    "### Следовательно:\n",
    "### $$f(x)=\\ln(16x^2)= \\ln(16)-\\sum_{n=1}^\\infty\\frac{2(-1)^n(x-1)^n}{n}$$"
   ]
  },
  {
   "cell_type": "markdown",
   "metadata": {},
   "source": [
    "### 6. Дана функция $f(x)=x^2$\n",
    "### a. Разложить функцию в ряд Фурье по косинусам на отрезке $x \\in [-2;0]$.\n",
    "### b. Построить график функции и ее разложения."
   ]
  },
  {
   "cell_type": "markdown",
   "metadata": {},
   "source": []
  }
 ],
 "metadata": {
  "kernelspec": {
   "display_name": "Python 3",
   "language": "python",
   "name": "python3"
  },
  "language_info": {
   "codemirror_mode": {
    "name": "ipython",
    "version": 3
   },
   "file_extension": ".py",
   "mimetype": "text/x-python",
   "name": "python",
   "nbconvert_exporter": "python",
   "pygments_lexer": "ipython3",
   "version": "3.8.5"
  }
 },
 "nbformat": 4,
 "nbformat_minor": 4
}
