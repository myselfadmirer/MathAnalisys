{
 "cells": [
  {
   "cell_type": "markdown",
   "metadata": {},
   "source": [
    "## Тема “Ряды”"
   ]
  },
  {
   "cell_type": "markdown",
   "metadata": {},
   "source": [
    "### 1. Исследовать ряд на сходимость, используя признак д’Аламбера:"
   ]
  },
  {
   "cell_type": "markdown",
   "metadata": {},
   "source": [
    "### $$\\sum_{n=1}^\\infty\\ \\frac{n^n}{(n!)^2}$$"
   ]
  },
  {
   "cell_type": "markdown",
   "metadata": {},
   "source": [
    "### $$\\lim_{n \\to \\infty}\\ \\frac{(n+1)^{n+1}}{((n+1)!)^2}\\ :\\ \\frac{n^n}{(n!)^2}=\\lim_{n \\to \\infty}\\ \\frac{(n+1)^{n+1}(n!)^2}{((n+1)!)^2n^n}=\\lim_{n \\to \\infty}\\ \\frac{(n+1)^2(n+1)^{n-1}(n!)^2}{(n!)^2(n+1)^2n^n}=\\lim_{n \\to \\infty}\\ \\frac{(n+1)^{n-1}}{n^n}=0$$ \n",
    "### (т.к. степень числителя меньше степени знаменателя)\n",
    "### \n",
    "### $q=0<1\\ =>$ последовательность сходится"
   ]
  },
  {
   "cell_type": "markdown",
   "metadata": {},
   "source": [
    "### 2. Исследовать ряд на сходимость, используя радикальный признак Коши:"
   ]
  },
  {
   "cell_type": "markdown",
   "metadata": {},
   "source": [
    "### $$\\sum_{n=1}^\\infty\\ \\frac{n}{2^n}$$"
   ]
  },
  {
   "cell_type": "markdown",
   "metadata": {},
   "source": [
    "### $$\\lim_{n \\to +\\infty}\\ \\sqrt[n]{\\frac{n}{2^n}}=\\lim_{n \\to +\\infty}\\ \\frac{\\sqrt[n]{n}}{\\sqrt[n]{2^n}}=\\frac1{2}$$\n",
    "### $q=\\frac1{2}<1\\ =>$ последовательность сходится"
   ]
  },
  {
   "cell_type": "markdown",
   "metadata": {},
   "source": [
    "### 3. Исследовать ряд на сходимость, используя признак Лейбница:"
   ]
  },
  {
   "cell_type": "markdown",
   "metadata": {},
   "source": [
    "### $$\\sum_{n=1}^\\infty\\ \\frac{(-1)^n}{n+\\ln n}$$"
   ]
  },
  {
   "cell_type": "markdown",
   "metadata": {},
   "source": [
    "### $$\\lvert\\frac{(-1)^n}{n+\\ln n}\\rvert-\\lvert\\frac{(-1)^{n+1}}{n+1+\\ln (n+1)}\\rvert\\ge0$$\n",
    "### $$\\lim_{n \\to +\\infty}\\ \\frac{1}{n+\\ln n}-\\frac{1}{n+1+\\ln (n+1)}=\\lim_{n \\to +\\infty}\\ \\frac{1+\\ln (n+1) - \\ln n}{(n+\\ln n)(1+n+\\ln(n+1))}=\\lim_{n \\to +\\infty}\\ \\frac1{(n+\\ln n)(1+n+\\ln(n+1))}=0$$\n",
    "\n",
    "### условие выполняется $=>$ последовательность сходится"
   ]
  },
  {
   "cell_type": "markdown",
   "metadata": {},
   "source": [
    "### 4. Исследовать ряд на сходимость, используя признак Раабе:"
   ]
  },
  {
   "cell_type": "markdown",
   "metadata": {},
   "source": [
    "### $$\\sum_{n=1}^\\infty\\ \\frac{3^n}{2^n}$$"
   ]
  },
  {
   "cell_type": "markdown",
   "metadata": {},
   "source": [
    "### $$\\lim_{n \\to \\infty}\\ n\\cdot (\\frac{3^n}{2^n}\\ :\\ \\frac{3^{n+1}}{2^{n+1}}-1)=\\lim_{n \\to \\infty}\\ n\\cdot (\\frac{3^n\\cdot 2^n\\cdot 2}{2^n \\cdot 3^n \\cdot 3}-1)=\\lim_{n \\to \\infty}-\\frac1{3}\\cdot n=-\\infty$$\n",
    "\n",
    "\n",
    "\n",
    "### $D<1\\ =>$ последовательность расходится"
   ]
  },
  {
   "cell_type": "markdown",
   "metadata": {},
   "source": [
    "### 5. Разложить функцию по Тейлору в единице:"
   ]
  },
  {
   "cell_type": "markdown",
   "metadata": {},
   "source": [
    "### $f(x)=\\ln(16x^2)$"
   ]
  },
  {
   "cell_type": "markdown",
   "metadata": {},
   "source": [
    "### $f(1)=\\ln(16)$\n",
    "### $f'(x)=\\frac2{x}$\n",
    "### $f''(x)=-\\frac2{x^2}$\n",
    "### $f^{(3)}(x)=\\frac4{x^3}$\n",
    "### $f^{(4)}(x)=-\\frac12{x^4}$ и т.д.\n",
    "### $f(x)=\\ln(16x^2)= \\ln(16)+\\frac{2(x-1)}{1!}-\\frac{2(x-1)^2}{2!}+\\frac{4(x-1)^3}{3!}-\\frac{12(x-1)^4}{4!}...=\\ln(16)+\\frac{2(x-1)}{1}-\\frac{2(x-1)^2}{2}+\\frac{2(x-1)^3}{3}-\\frac{2(x-1)^4}{4}...-\\frac{2(-1)^n(x-1)^n}{n}$\n",
    "### Следовательно:\n",
    "### $$f(x)=\\ln(16x^2)= \\ln(16)-\\sum_{n=1}^\\infty\\frac{2(-1)^n(x-1)^n}{n}$$"
   ]
  },
  {
   "cell_type": "markdown",
   "metadata": {},
   "source": [
    "### 6. Дана функция $f(x)=x^2$\n",
    "### a. Разложить функцию в ряд Фурье по косинусам на отрезке $x \\in [-\\pi;\\pi]$.\n",
    "### $$f(x)=a_0+\\sum_{n=1}^\\infty(a_n\\cos(nx)+b_n\\sin(nx))$$\n",
    "### $a_0=\\frac1{2\\pi}\\cdot \\int\\limits_{-\\pi}^\\pi x^2\\ dx=\\frac{\\pi^2}{3}$\n",
    "### $a_n=\\frac1{\\pi}\\cdot \\int\\limits_{-\\pi}^\\pi x^2\\cos(nx)\\ dx=-\\frac{4}{n^2}$\n",
    "### $b_n=\\frac1{\\pi}\\cdot \\int\\limits_{-\\pi}^\\pi x^2\\sin(nx)\\ dx=0$\n",
    "### $f(x)=\\frac{\\pi^2}{3}-\\sum_{n=1}^\\infty \\frac{4}{n^2}\\cdot \\cos (nx)$"
   ]
  },
  {
   "cell_type": "markdown",
   "metadata": {},
   "source": [
    "### b. Построить график функции и ее разложения."
   ]
  },
  {
   "cell_type": "code",
   "execution_count": 2,
   "metadata": {},
   "outputs": [],
   "source": [
    "\n",
    "\n",
    "import numpy as np\n",
    "import matplotlib.pyplot as plt\n",
    "%matplotlib inline"
   ]
  },
  {
   "cell_type": "code",
   "execution_count": 33,
   "metadata": {},
   "outputs": [
    {
     "ename": "TypeError",
     "evalue": "only integer scalar arrays can be converted to a scalar index",
     "output_type": "error",
     "traceback": [
      "\u001b[0;31m---------------------------------------------------------------------------\u001b[0m",
      "\u001b[0;31mTypeError\u001b[0m                                 Traceback (most recent call last)",
      "\u001b[0;32m<ipython-input-33-f30e43207be1>\u001b[0m in \u001b[0;36m<module>\u001b[0;34m\u001b[0m\n\u001b[1;32m     10\u001b[0m \u001b[0ma0\u001b[0m\u001b[0;34m=\u001b[0m\u001b[0;34m(\u001b[0m\u001b[0mnp\u001b[0m\u001b[0;34m.\u001b[0m\u001b[0mpi\u001b[0m\u001b[0;34m**\u001b[0m\u001b[0;36m2\u001b[0m\u001b[0;34m)\u001b[0m\u001b[0;34m/\u001b[0m\u001b[0;36m3\u001b[0m\u001b[0;34m\u001b[0m\u001b[0;34m\u001b[0m\u001b[0m\n\u001b[1;32m     11\u001b[0m \u001b[0mn\u001b[0m\u001b[0;34m=\u001b[0m\u001b[0mnp\u001b[0m\u001b[0;34m.\u001b[0m\u001b[0marange\u001b[0m\u001b[0;34m(\u001b[0m\u001b[0;36m1\u001b[0m\u001b[0;34m,\u001b[0m \u001b[0;36m15\u001b[0m\u001b[0;34m,\u001b[0m \u001b[0;36m1\u001b[0m\u001b[0;34m)\u001b[0m\u001b[0;34m\u001b[0m\u001b[0;34m\u001b[0m\u001b[0m\n\u001b[0;32m---> 12\u001b[0;31m \u001b[0my2\u001b[0m\u001b[0;34m=\u001b[0m\u001b[0mnp\u001b[0m\u001b[0;34m.\u001b[0m\u001b[0marray\u001b[0m\u001b[0;34m(\u001b[0m\u001b[0;34m[\u001b[0m\u001b[0ma0\u001b[0m\u001b[0;34m-\u001b[0m\u001b[0man\u001b[0m\u001b[0;34m(\u001b[0m\u001b[0mn\u001b[0m\u001b[0;34m)\u001b[0m \u001b[0;32mfor\u001b[0m \u001b[0mnum\u001b[0m \u001b[0;32min\u001b[0m \u001b[0mn\u001b[0m\u001b[0;34m]\u001b[0m\u001b[0;34m)\u001b[0m\u001b[0;34m\u001b[0m\u001b[0;34m\u001b[0m\u001b[0m\n\u001b[0m\u001b[1;32m     13\u001b[0m \u001b[0mplt\u001b[0m\u001b[0;34m.\u001b[0m\u001b[0mgrid\u001b[0m\u001b[0;34m(\u001b[0m\u001b[0;34m)\u001b[0m\u001b[0;34m\u001b[0m\u001b[0;34m\u001b[0m\u001b[0m\n\u001b[1;32m     14\u001b[0m \u001b[0mplt\u001b[0m\u001b[0;34m.\u001b[0m\u001b[0mplot\u001b[0m\u001b[0;34m(\u001b[0m\u001b[0mx\u001b[0m\u001b[0;34m,\u001b[0m \u001b[0my1\u001b[0m\u001b[0;34m)\u001b[0m\u001b[0;34m\u001b[0m\u001b[0;34m\u001b[0m\u001b[0m\n",
      "\u001b[0;32m<ipython-input-33-f30e43207be1>\u001b[0m in \u001b[0;36m<listcomp>\u001b[0;34m(.0)\u001b[0m\n\u001b[1;32m     10\u001b[0m \u001b[0ma0\u001b[0m\u001b[0;34m=\u001b[0m\u001b[0;34m(\u001b[0m\u001b[0mnp\u001b[0m\u001b[0;34m.\u001b[0m\u001b[0mpi\u001b[0m\u001b[0;34m**\u001b[0m\u001b[0;36m2\u001b[0m\u001b[0;34m)\u001b[0m\u001b[0;34m/\u001b[0m\u001b[0;36m3\u001b[0m\u001b[0;34m\u001b[0m\u001b[0;34m\u001b[0m\u001b[0m\n\u001b[1;32m     11\u001b[0m \u001b[0mn\u001b[0m\u001b[0;34m=\u001b[0m\u001b[0mnp\u001b[0m\u001b[0;34m.\u001b[0m\u001b[0marange\u001b[0m\u001b[0;34m(\u001b[0m\u001b[0;36m1\u001b[0m\u001b[0;34m,\u001b[0m \u001b[0;36m15\u001b[0m\u001b[0;34m,\u001b[0m \u001b[0;36m1\u001b[0m\u001b[0;34m)\u001b[0m\u001b[0;34m\u001b[0m\u001b[0;34m\u001b[0m\u001b[0m\n\u001b[0;32m---> 12\u001b[0;31m \u001b[0my2\u001b[0m\u001b[0;34m=\u001b[0m\u001b[0mnp\u001b[0m\u001b[0;34m.\u001b[0m\u001b[0marray\u001b[0m\u001b[0;34m(\u001b[0m\u001b[0;34m[\u001b[0m\u001b[0ma0\u001b[0m\u001b[0;34m-\u001b[0m\u001b[0man\u001b[0m\u001b[0;34m(\u001b[0m\u001b[0mn\u001b[0m\u001b[0;34m)\u001b[0m \u001b[0;32mfor\u001b[0m \u001b[0mnum\u001b[0m \u001b[0;32min\u001b[0m \u001b[0mn\u001b[0m\u001b[0;34m]\u001b[0m\u001b[0;34m)\u001b[0m\u001b[0;34m\u001b[0m\u001b[0;34m\u001b[0m\u001b[0m\n\u001b[0m\u001b[1;32m     13\u001b[0m \u001b[0mplt\u001b[0m\u001b[0;34m.\u001b[0m\u001b[0mgrid\u001b[0m\u001b[0;34m(\u001b[0m\u001b[0;34m)\u001b[0m\u001b[0;34m\u001b[0m\u001b[0;34m\u001b[0m\u001b[0m\n\u001b[1;32m     14\u001b[0m \u001b[0mplt\u001b[0m\u001b[0;34m.\u001b[0m\u001b[0mplot\u001b[0m\u001b[0;34m(\u001b[0m\u001b[0mx\u001b[0m\u001b[0;34m,\u001b[0m \u001b[0my1\u001b[0m\u001b[0;34m)\u001b[0m\u001b[0;34m\u001b[0m\u001b[0;34m\u001b[0m\u001b[0m\n",
      "\u001b[0;32m<ipython-input-33-f30e43207be1>\u001b[0m in \u001b[0;36man\u001b[0;34m(num)\u001b[0m\n\u001b[1;32m      1\u001b[0m \u001b[0;32mdef\u001b[0m \u001b[0man\u001b[0m\u001b[0;34m(\u001b[0m\u001b[0mnum\u001b[0m\u001b[0;34m)\u001b[0m\u001b[0;34m:\u001b[0m\u001b[0;34m\u001b[0m\u001b[0;34m\u001b[0m\u001b[0m\n\u001b[1;32m      2\u001b[0m     \u001b[0msum_f\u001b[0m\u001b[0;34m=\u001b[0m\u001b[0;36m0\u001b[0m\u001b[0;34m\u001b[0m\u001b[0;34m\u001b[0m\u001b[0m\n\u001b[0;32m----> 3\u001b[0;31m     \u001b[0;32mfor\u001b[0m \u001b[0mi\u001b[0m \u001b[0;32min\u001b[0m \u001b[0mrange\u001b[0m\u001b[0;34m(\u001b[0m\u001b[0;36m1\u001b[0m\u001b[0;34m,\u001b[0m \u001b[0mnum\u001b[0m\u001b[0;34m+\u001b[0m\u001b[0;36m1\u001b[0m\u001b[0;34m)\u001b[0m\u001b[0;34m:\u001b[0m\u001b[0;34m\u001b[0m\u001b[0;34m\u001b[0m\u001b[0m\n\u001b[0m\u001b[1;32m      4\u001b[0m         \u001b[0msum_f\u001b[0m\u001b[0;34m+=\u001b[0m\u001b[0;36m4\u001b[0m\u001b[0;34m/\u001b[0m\u001b[0mi\u001b[0m\u001b[0;34m**\u001b[0m\u001b[0;36m2\u001b[0m\u001b[0;34m\u001b[0m\u001b[0;34m\u001b[0m\u001b[0m\n\u001b[1;32m      5\u001b[0m     \u001b[0;32mreturn\u001b[0m \u001b[0msum_f\u001b[0m\u001b[0;34m\u001b[0m\u001b[0;34m\u001b[0m\u001b[0m\n",
      "\u001b[0;31mTypeError\u001b[0m: only integer scalar arrays can be converted to a scalar index"
     ]
    }
   ],
   "source": [
    "def an(num):\n",
    "    sum_f=0\n",
    "    for i in range(1, num+1):\n",
    "        sum_f+=4/i**2\n",
    "    return sum_f\n",
    "\n",
    "\n",
    "x = np.linspace(-3.14, 3,14, 10)\n",
    "y1 = x**2\n",
    "a0=(np.pi**2)/3\n",
    "n=np.arange(1, 15, 1)\n",
    "y2=np.array([a0-an(n) for num in n])\n",
    "plt.grid()\n",
    "plt.plot(x, y1)\n",
    "plt.plot(x, y2*np.cos(n*x))\n",
    "\n",
    "plt.show()"
   ]
  },
  {
   "cell_type": "code",
   "execution_count": null,
   "metadata": {},
   "outputs": [],
   "source": []
  }
 ],
 "metadata": {
  "kernelspec": {
   "display_name": "Python 3",
   "language": "python",
   "name": "python3"
  },
  "language_info": {
   "codemirror_mode": {
    "name": "ipython",
    "version": 3
   },
   "file_extension": ".py",
   "mimetype": "text/x-python",
   "name": "python",
   "nbconvert_exporter": "python",
   "pygments_lexer": "ipython3",
   "version": "3.8.5"
  }
 },
 "nbformat": 4,
 "nbformat_minor": 4
}
