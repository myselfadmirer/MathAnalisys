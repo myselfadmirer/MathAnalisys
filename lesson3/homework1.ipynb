{
 "cells": [
  {
   "cell_type": "markdown",
   "metadata": {},
   "source": [
    "## Тема “Введение в математических анализ”"
   ]
  },
  {
   "cell_type": "markdown",
   "metadata": {},
   "source": [
    "### Задание 1\n",
    "### Как относятся друг к другу множество и последовательность? (в ответе использовать слова типа: часть, целое, общее, частное, родитель, дочерний субъект и т.д.)"
   ]
  },
  {
   "cell_type": "markdown",
   "metadata": {},
   "source": [
    "### Последовательность может являться частным случаем упорядоченного множества. Последовательность — это пронумерованный набор каких-либо объектов, среди которых допускаются повторения, причём порядок объектов имеет значение. Нумерация чаще всего происходит натуральными числами (множество N). Последовательность может быть родителем для нескольких множеств."
   ]
  },
  {
   "cell_type": "markdown",
   "metadata": {},
   "source": [
    "### Задание 2"
   ]
  },
  {
   "cell_type": "markdown",
   "metadata": {},
   "source": [
    "### 1) Для любого y, принадлежащего сегменту от 0 до 1, sgn(y) = 1 - ЛОЖЬ\n",
    "### Отрицание:\n",
    "### $\\exists y \\in [0; 1]: sgn(y) \\neq 1$ - ИСТИНА"
   ]
  },
  {
   "cell_type": "markdown",
   "metadata": {},
   "source": [
    "### 2) Для любого n, принадлежащего множеству N > 2, существует такие x, y, z, принадлежащие N, что $x^n = y^n + z^n$ - ЛОЖЬ\n",
    "### Отрицание:\n",
    "### $\\exists n \\in N>2: \\forall x, y, z \\in N: x^n \\neq y^n + z^n$ - ИСТИНА"
   ]
  },
  {
   "cell_type": "markdown",
   "metadata": {},
   "source": [
    "### 3) Для любого x, принадлежащего множеству R, существует такое множество X, принадлежащее R, такое, что X > x - ЛОЖЬ\n",
    "### Отрицание:\n",
    "### $\\exists n \\in R \\forall X \\in R: X \\ngtr x$ - ИСТИНА"
   ]
  },
  {
   "cell_type": "markdown",
   "metadata": {},
   "source": [
    "### 4) Для любого x, принадлежащего множеству C, не существует такго y, принадлежащего C, такое, что x>y или x<y - ЛОЖЬ\n",
    "### Отрицание:\n",
    "### $\\exists x \\in C \\exists y \\in C: x>y || x<y$ - ИСТИНА"
   ]
  },
  {
   "cell_type": "markdown",
   "metadata": {},
   "source": [
    "### 5) Для любого y, принадлежащего сегменту от 0 до $\\pi/2$, существует такое $\\varepsilon > 0$, такое, что $sin(y) < sin(y + \\varepsilon)$ - ЛОЖЬ\n",
    "### Отрицание:\n",
    "### $\\exists y \\in [0; \\pi/2] \\forall \\varepsilon > 0: sin(y) \\geq sin(y + \\varepsilon)$ - ИСТИНА"
   ]
  },
  {
   "cell_type": "markdown",
   "metadata": {},
   "source": [
    "### 6) Для любого y, принадлежащего полуинтервалу от 0 до $\\pi$, существует такое $\\varepsilon > 0$, такое, что $cos(y) > cos(y + \\varepsilon)$ - ИСТИНА\n",
    "### Отрицание:\n",
    "### $\\exists y \\in [0; \\pi) \\forall \\varepsilon > 0: cos(y) \\leq cos(y + \\varepsilon)$ - ЛОЖЬ"
   ]
  },
  {
   "cell_type": "markdown",
   "metadata": {},
   "source": [
    "### 7) Существует такое x, не принадлежащее ни одному их множеств N, Z, Q, R, C - ЛОЖЬ\n",
    "### Отрицание:\n",
    "### $\\forall x: x \\in \\{N, Z, Q, R, C\\}$"
   ]
  },
  {
   "cell_type": "markdown",
   "metadata": {},
   "source": [
    "## Тема “Множество”"
   ]
  },
  {
   "cell_type": "markdown",
   "metadata": {},
   "source": [
    "### Даны три множества a,b и с. Необходимо выполнить все изученные виды бинарных операций над всеми комбинациями множеств."
   ]
  },
  {
   "cell_type": "code",
   "execution_count": 9,
   "metadata": {
    "id": "M2yvokrgLwIR"
   },
   "outputs": [],
   "source": [
    "A = {1, 2, 3, 4, 5}\n",
    "B = {4, 5, 6, 7, 8}\n",
    "C = {1, 3, 5, 7, 9, 11, 13, 15}"
   ]
  },
  {
   "cell_type": "code",
   "execution_count": 18,
   "metadata": {
    "id": "VCiUpVqhLwIa",
    "outputId": "b46b18cd-8601-4739-f3da-d764bb1ef828"
   },
   "outputs": [
    {
     "name": "stdout",
     "output_type": "stream",
     "text": [
      "{1, 2, 3, 4, 5, 7, 9, 11, 13, 15}\n",
      "{1, 2, 3, 4, 5, 6, 7, 8, 9, 11, 13, 15}\n"
     ]
    }
   ],
   "source": [
    "# Объединение множеств можно проделать с помощью оператора \"|\" или функция union()\n",
    "print(A  | C)\n",
    "print(B.union(A).union(C))"
   ]
  },
  {
   "cell_type": "code",
   "execution_count": 19,
   "metadata": {
    "id": "wkslKVBHLwIs",
    "outputId": "bfb7c7d6-ace9-421c-ccd5-aece80c12439"
   },
   "outputs": [
    {
     "name": "stdout",
     "output_type": "stream",
     "text": [
      "{5, 7}\n",
      "{5}\n"
     ]
    }
   ],
   "source": [
    "# Пересечение с помощью оператора \"&\" или функция intersection()\n",
    "print(B & C)\n",
    "print(B.intersection(A).intersection(C))"
   ]
  },
  {
   "cell_type": "code",
   "execution_count": 15,
   "metadata": {
    "id": "nOtAL6aTLwI1",
    "outputId": "de14eba2-3a56-49bd-912b-2fb4f8c870e5"
   },
   "outputs": [
    {
     "name": "stdout",
     "output_type": "stream",
     "text": [
      "{2}\n",
      "{8, 6}\n",
      "{1, 3, 9, 11, 13, 15}\n"
     ]
    }
   ],
   "source": [
    "# Разность с помощью оператора \"-\" или функция difference()\n",
    "print(A - B - C)\n",
    "print(B.difference(A).difference(C))\n",
    "print(C.difference(B))"
   ]
  },
  {
   "cell_type": "code",
   "execution_count": 20,
   "metadata": {
    "id": "HqPrnO2lLwI8",
    "outputId": "69d8d6e1-2aaa-4e87-a8e2-1d5af413d131"
   },
   "outputs": [
    {
     "name": "stdout",
     "output_type": "stream",
     "text": [
      "{1, 2, 3, 6, 7, 8}\n",
      "{2, 4, 7, 9, 11, 13, 15}\n",
      "{1, 3, 4, 6, 8, 9, 11, 13, 15}\n"
     ]
    }
   ],
   "source": [
    "#Симметричную разность с помощью оператора \"^\" или функция symmetric_difference()\n",
    "print(A ^ B)\n",
    "print(A.symmetric_difference(C))\n",
    "print(B.symmetric_difference(C))"
   ]
  },
  {
   "cell_type": "code",
   "execution_count": null,
   "metadata": {},
   "outputs": [],
   "source": []
  }
 ],
 "metadata": {
  "kernelspec": {
   "display_name": "Python 3",
   "language": "python",
   "name": "python3"
  },
  "language_info": {
   "codemirror_mode": {
    "name": "ipython",
    "version": 3
   },
   "file_extension": ".py",
   "mimetype": "text/x-python",
   "name": "python",
   "nbconvert_exporter": "python",
   "pygments_lexer": "ipython3",
   "version": "3.8.5"
  }
 },
 "nbformat": 4,
 "nbformat_minor": 4
}
