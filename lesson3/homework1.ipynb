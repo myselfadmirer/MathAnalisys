{
 "cells": [
  {
   "cell_type": "code",
   "execution_count": 1,
   "metadata": {},
   "outputs": [],
   "source": [
    "from matplotlib import pyplot as plt\n",
    "import numpy as np\n",
    "from math import factorial\n",
    "\n",
    "%matplotlib inline"
   ]
  },
  {
   "cell_type": "markdown",
   "metadata": {},
   "source": [
    "## Тема “Введение в математических анализ”"
   ]
  },
  {
   "cell_type": "markdown",
   "metadata": {},
   "source": [
    "### Задание 1\n",
    "### Как относятся друг к другу множество и последовательность? (в ответе использовать слова типа: часть, целое, общее, частное, родитель, дочерний субъект и т.д.)"
   ]
  },
  {
   "cell_type": "markdown",
   "metadata": {},
   "source": [
    "### Последовательность может являться частным случаем упорядоченного множества. Последовательность — это пронумерованный набор каких-либо объектов, среди которых допускаются повторения, причём порядок объектов имеет значение. Нумерация чаще всего происходит натуральными числами (множество N). Последовательность может быть родителем для нескольких множеств."
   ]
  },
  {
   "cell_type": "markdown",
   "metadata": {},
   "source": [
    "### Задание 2"
   ]
  },
  {
   "cell_type": "markdown",
   "metadata": {},
   "source": [
    "### 1) Для любого y, принадлежащего сегменту от 0 до 1, sgn(y) = 1 - ЛОЖЬ\n",
    "### Отрицание:\n",
    "### $\\exists y \\in [0; 1]: sgn(y) \\neq 1$ - ИСТИНА"
   ]
  },
  {
   "cell_type": "markdown",
   "metadata": {},
   "source": [
    "### 2) Для любого n, принадлежащего множеству N > 2, существует такие x, y, z, принадлежащие N, что $x^n = y^n + z^n$ - ЛОЖЬ\n",
    "### Отрицание:\n",
    "### $\\exists n \\in N>2: \\forall x, y, z \\in N: x^n \\neq y^n + z^n$ - ИСТИНА"
   ]
  },
  {
   "cell_type": "markdown",
   "metadata": {},
   "source": [
    "### 3) Для любого x, принадлежащего множеству R, существует такое множество X, принадлежащее R, такое, что X > x - ЛОЖЬ\n",
    "### Отрицание:\n",
    "### $\\exists n \\in R \\forall X \\in R: X \\ngtr x$ - ИСТИНА"
   ]
  },
  {
   "cell_type": "markdown",
   "metadata": {},
   "source": [
    "### 4) Для любого x, принадлежащего множеству C, не существует такго y, принадлежащего C, такое, что x>y или x<y - ЛОЖЬ\n",
    "### Отрицание:\n",
    "### $\\exists x \\in C \\exists y \\in C: x>y || x<y$ - ИСТИНА"
   ]
  },
  {
   "cell_type": "markdown",
   "metadata": {},
   "source": [
    "### 5) Для любого y, принадлежащего сегменту от 0 до $\\pi/2$, существует такое $\\varepsilon > 0$, такое, что $sin(y) < sin(y + \\varepsilon)$ - ЛОЖЬ\n",
    "### Отрицание:\n",
    "### $\\exists y \\in [0; \\pi/2] \\forall \\varepsilon > 0: sin(y) \\geq sin(y + \\varepsilon)$ - ИСТИНА"
   ]
  },
  {
   "cell_type": "markdown",
   "metadata": {},
   "source": [
    "### 6) Для любого y, принадлежащего полуинтервалу от 0 до $\\pi$, существует такое $\\varepsilon > 0$, такое, что $cos(y) > cos(y + \\varepsilon)$ - ИСТИНА\n",
    "### Отрицание:\n",
    "### $\\exists y \\in [0; \\pi) \\forall \\varepsilon > 0: cos(y) \\leq cos(y + \\varepsilon)$ - ЛОЖЬ"
   ]
  },
  {
   "cell_type": "markdown",
   "metadata": {},
   "source": [
    "### 7) Существует такое x, не принадлежащее ни одному их множеств N, Z, Q, R, C - ЛОЖЬ\n",
    "### Отрицание:\n",
    "### $\\forall x: x \\in \\{N, Z, Q, R, C\\}$ - ИСТИНА"
   ]
  },
  {
   "cell_type": "markdown",
   "metadata": {},
   "source": [
    "## Тема “Множество”"
   ]
  },
  {
   "cell_type": "markdown",
   "metadata": {},
   "source": [
    "### Даны три множества a,b и с. Необходимо выполнить все изученные виды бинарных операций над всеми комбинациями множеств."
   ]
  },
  {
   "cell_type": "code",
   "execution_count": 2,
   "metadata": {
    "id": "M2yvokrgLwIR"
   },
   "outputs": [],
   "source": [
    "A = {1, 2, 3, 4, 5}\n",
    "B = {4, 5, 6, 7, 8}\n",
    "C = {1, 3, 5, 7, 9, 11, 13, 15}"
   ]
  },
  {
   "cell_type": "code",
   "execution_count": 3,
   "metadata": {
    "id": "VCiUpVqhLwIa",
    "outputId": "b46b18cd-8601-4739-f3da-d764bb1ef828"
   },
   "outputs": [
    {
     "name": "stdout",
     "output_type": "stream",
     "text": [
      "{1, 2, 3, 4, 5, 7, 9, 11, 13, 15}\n",
      "{1, 2, 3, 4, 5, 6, 7, 8, 9, 11, 13, 15}\n"
     ]
    }
   ],
   "source": [
    "# Объединение множеств можно проделать с помощью оператора \"|\" или функция union()\n",
    "print(A  | C)\n",
    "print(B.union(A).union(C))"
   ]
  },
  {
   "cell_type": "code",
   "execution_count": 4,
   "metadata": {
    "id": "wkslKVBHLwIs",
    "outputId": "bfb7c7d6-ace9-421c-ccd5-aece80c12439"
   },
   "outputs": [
    {
     "name": "stdout",
     "output_type": "stream",
     "text": [
      "{5, 7}\n",
      "{5}\n"
     ]
    }
   ],
   "source": [
    "# Пересечение с помощью оператора \"&\" или функция intersection()\n",
    "print(B & C)\n",
    "print(B.intersection(A).intersection(C))"
   ]
  },
  {
   "cell_type": "code",
   "execution_count": 5,
   "metadata": {
    "id": "nOtAL6aTLwI1",
    "outputId": "de14eba2-3a56-49bd-912b-2fb4f8c870e5"
   },
   "outputs": [
    {
     "name": "stdout",
     "output_type": "stream",
     "text": [
      "{2}\n",
      "{8, 6}\n",
      "{1, 3, 9, 11, 13, 15}\n"
     ]
    }
   ],
   "source": [
    "# Разность с помощью оператора \"-\" или функция difference()\n",
    "print(A - B - C)\n",
    "print(B.difference(A).difference(C))\n",
    "print(C.difference(B))"
   ]
  },
  {
   "cell_type": "code",
   "execution_count": 6,
   "metadata": {
    "id": "HqPrnO2lLwI8",
    "outputId": "69d8d6e1-2aaa-4e87-a8e2-1d5af413d131"
   },
   "outputs": [
    {
     "name": "stdout",
     "output_type": "stream",
     "text": [
      "{1, 2, 3, 6, 7, 8}\n",
      "{2, 4, 7, 9, 11, 13, 15}\n",
      "{1, 3, 4, 6, 8, 9, 11, 13, 15}\n"
     ]
    }
   ],
   "source": [
    "#Симметричную разность с помощью оператора \"^\" или функция symmetric_difference()\n",
    "print(A ^ B)\n",
    "print(A.symmetric_difference(C))\n",
    "print(B.symmetric_difference(C))"
   ]
  },
  {
   "cell_type": "markdown",
   "metadata": {},
   "source": [
    "## Тема “Последовательность”"
   ]
  },
  {
   "cell_type": "markdown",
   "metadata": {},
   "source": [
    "### 1. Даны 4 последовательности. Необходимо:\n",
    "###   - исследовать их на монотонность; \n",
    "###   - исследовать на ограниченность;\n",
    "###   - найти пятый по счету член."
   ]
  },
  {
   "cell_type": "markdown",
   "metadata": {},
   "source": [
    "### $\\{a_n\\}^\\infty_{n=1}=2^n-n$\n",
    "### - возрастающая;\n",
    "### - ограничена снизу 1\n",
    "### - 32"
   ]
  },
  {
   "cell_type": "code",
   "execution_count": 7,
   "metadata": {},
   "outputs": [],
   "source": [
    "n1 = np.linspace(1, 5, 5)\n",
    "a1 = 2**n1 - n1"
   ]
  },
  {
   "cell_type": "markdown",
   "metadata": {},
   "source": [
    "### $\\{b_n\\}^\\infty_{n=2}=\\frac1{1-n}$\n",
    "### - возрастающая\n",
    "### - ограничена снизу -1, сверху - 0\n",
    "### - $-\\frac1{5}$"
   ]
  },
  {
   "cell_type": "code",
   "execution_count": 8,
   "metadata": {},
   "outputs": [],
   "source": [
    "n2 = np.linspace(2, 11, 10)\n",
    "a2 = 1 / (1 - n2)"
   ]
  },
  {
   "cell_type": "markdown",
   "metadata": {},
   "source": [
    "### $\\{c_n\\}^\\infty_{n=1}=-1^n+\\sqrt{2n}$\n",
    "### - возрастающая\n",
    "### - ограничена снизу $\\sqrt2-1$\n",
    "### - $\\sqrt10-1$"
   ]
  },
  {
   "cell_type": "code",
   "execution_count": 9,
   "metadata": {},
   "outputs": [],
   "source": [
    "a3 = -1**n1 + np.sqrt(2*n1)"
   ]
  },
  {
   "cell_type": "markdown",
   "metadata": {},
   "source": [
    "### $\\{d_n\\}^\\infty_{n=1}=(-1)^{2n}+\\frac1{n^2}$\n",
    "### - убывающая\n",
    "### - ограничена снизу 2, сверху 1\n",
    "### - $\\frac{26}{25}$"
   ]
  },
  {
   "cell_type": "code",
   "execution_count": 11,
   "metadata": {},
   "outputs": [],
   "source": [
    "a4 = (-1)**(2 * n1) + 1 / (n1**2)"
   ]
  },
  {
   "cell_type": "code",
   "execution_count": 13,
   "metadata": {},
   "outputs": [
    {
     "data": {
      "text/plain": [
       "[<matplotlib.lines.Line2D at 0x7f3e247048e0>]"
      ]
     },
     "execution_count": 13,
     "metadata": {},
     "output_type": "execute_result"
    },
    {
     "data": {
      "image/png": "[encoded data removed]",
      "text/plain": [
       "<Figure size 1440x1440 with 4 Axes>"
      ]
     },
     "metadata": {
      "needs_background": "light"
     },
     "output_type": "display_data"
    }
   ],
   "source": [
    "fig, ax = plt.subplots(nrows=2, ncols=2)\n",
    "ax1, ax2, ax3, ax4 =ax.flatten()\n",
    "\n",
    "fig.set_size_inches(20, 20)\n",
    "fig.subplots_adjust(wspace=0.3, hspace=0.3)\n",
    "\n",
    "ax1.plot(n1, a1)\n",
    "ax2.plot(n2, a2)\n",
    "ax3.plot(n1, a3)\n",
    "ax4.plot(n1, a4)"
   ]
  },
  {
   "cell_type": "markdown",
   "metadata": {},
   "source": [
    "### 2. Найти 12-й член заданной неявно последовательности\n",
    "### $a_1 = 128,\\ a_{n+1} - a_n = 6$"
   ]
  },
  {
   "cell_type": "markdown",
   "metadata": {},
   "source": [
    "### $a_{n+1}=a_n+q$\n",
    "### $q=6$\n",
    "### $a_{n}=a_1+q*{(n-1)}$\n",
    "### $a_{12}=a_1+6*{(12-1)}=128+66=194$"
   ]
  },
  {
   "cell_type": "markdown",
   "metadata": {},
   "source": [
    "### 3. *На языке Python предложить алгоритм вычисляющий численно предел с точностью  $\\varepsilon=10^{-7}$\n",
    "### $\\lim\\limits_{n\\to+\\infty}\\frac{n}{\\sqrt[n]{n!}}$"
   ]
  },
  {
   "cell_type": "code",
   "execution_count": 43,
   "metadata": {},
   "outputs": [
    {
     "name": "stdout",
     "output_type": "stream",
     "text": [
      "Стремится к числу Эйлера\n"
     ]
    },
    {
     "data": {
      "image/png": "[encoded data removed]",
      "text/plain": [
       "<Figure size 432x288 with 1 Axes>"
      ]
     },
     "metadata": {
      "needs_background": "light"
     },
     "output_type": "display_data"
    }
   ],
   "source": [
    "fig.set_size_inches(10, 10)\n",
    "\n",
    "n = 150\n",
    "x = np.arange(1, n + 1)\n",
    "div = np.array([factorial(i) for i in x])\n",
    "y = x / div**(1/x)\n",
    "plt.plot(x, y)\n",
    "plt.grid(True)\n",
    "plt.ylim(1, 2.7)\n",
    "plt.xlim(0, 152)\n",
    "print('Стремится к числу Эйлера')"
   ]
  },
  {
   "cell_type": "code",
   "execution_count": 53,
   "metadata": {},
   "outputs": [
    {
     "data": {
      "text/plain": [
       "(2.656920968681406, 2.656921068681406)"
      ]
     },
     "execution_count": 53,
     "metadata": {},
     "output_type": "execute_result"
    }
   ],
   "source": [
    "e = 10**(-7)\n",
    "n = 150\n",
    "div = factorial(n)\n",
    "y = n / div**(1/n)\n",
    "y, y + e"
   ]
  },
  {
   "cell_type": "code",
   "execution_count": null,
   "metadata": {},
   "outputs": [],
   "source": []
  }
 ],
 "metadata": {
  "kernelspec": {
   "display_name": "Python 3",
   "language": "python",
   "name": "python3"
  },
  "language_info": {
   "codemirror_mode": {
    "name": "ipython",
    "version": 3
   },
   "file_extension": ".py",
   "mimetype": "text/x-python",
   "name": "python",
   "nbconvert_exporter": "python",
   "pygments_lexer": "ipython3",
   "version": "3.8.5"
  }
 },
 "nbformat": 4,
 "nbformat_minor": 4
}
