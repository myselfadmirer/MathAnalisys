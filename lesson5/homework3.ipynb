{
 "cells": [
  {
   "cell_type": "markdown",
   "metadata": {},
   "source": [
    "## Тема 6 “Понятие о производной”"
   ]
  },
  {
   "cell_type": "markdown",
   "metadata": {},
   "source": [
    "### 1. Найти производную выражения (a - пустое задание): "
   ]
  },
  {
   "cell_type": "markdown",
   "metadata": {},
   "source": [
    "### a. $\\ (sinx \\cdot cosx)'=cosx \\cdot cosx + sinx \\cdot (-sinx)=cos^2x-sin^2x=cos2x$"
   ]
  },
  {
   "cell_type": "markdown",
   "metadata": {},
   "source": [
    "### b. $\\ (ln(2x+1)^3)'=\\frac1{(2x+1)^3}\\cdot3(2x+1)^2\\cdot2=\\frac6{2x+1}$\n",
    "### Можно сразу вынести степень 3 перед ln и считать как:\n",
    "### $\\ (ln(2x+1)^3)'=(3\\cdot ln(2x+1))'=\\frac3{(2x+1)}\\cdot2=\\frac6{2x+1}$"
   ]
  },
  {
   "cell_type": "markdown",
   "metadata": {},
   "source": [
    "### c. $\\ (\\sqrt{sin^2(ln(x^3))})'=\\frac1{2\\sqrt{sin^2(ln(x^3))}}\\cdot2sin(ln(x^3))\\cdot\\frac1{x^3} \\cdot 3x^2=\\frac3{x}$"
   ]
  },
  {
   "cell_type": "markdown",
   "metadata": {},
   "source": [
    "### d. $\\ (\\frac{x^4}{ln(x)})'=\\frac{4x^3lnx-\\frac{x^4}{x}}{ln^2x}=\\frac{x^3(4lnx-1)}{ln^2x}$"
   ]
  },
  {
   "cell_type": "markdown",
   "metadata": {},
   "source": [
    "### 2. Найти выражение производной функции и ее значение в точке:\n",
    "### $f(x)=cos(x^2+3x), x_0=\\sqrt{\\pi}$"
   ]
  },
  {
   "cell_type": "markdown",
   "metadata": {},
   "source": [
    "### $f'(x)=(cos(x^2+3x))'=-sin(x^2+3x) \\cdot (2x+3)$\n",
    "### $f'(\\sqrt\\pi)=-sin({\\sqrt\\pi}^2+3{\\sqrt\\pi}) \\cdot (2{\\sqrt\\pi}+3)$"
   ]
  },
  {
   "cell_type": "markdown",
   "metadata": {},
   "source": [
    "### 3. Найти значение производной функции в точке:\n",
    "### $f(x)=\\frac{x^3-x^2-x-1}{1+2x+3x^2-4x^3},x_0=0$"
   ]
  },
  {
   "cell_type": "markdown",
   "metadata": {},
   "source": [
    "### $f'(x)=(\\frac{x^3-x^2-x-1}{1+2x+3x^2-4x^3})'=\\frac{(x^3-x^2-x-1)'\\cdot(1+2x+3x^2-4x^3)-(x^3-x^2-x-1)\\cdot(1+2x+3x^2-4x^3)'}{(1+2x+3x^2-4x^3)^2}=\\frac{(3x^2-2x-1)\\cdot(1+2x+3x^2-4x^3)+(x^3-x^2-x-1)\\cdot(12x^2-6x-2)}{(1+2x+3x^2-4x^3)^2}$\n",
    "### $f(x_0)=\\frac{(3\\cdot0^2-2\\cdot0-1)\\cdot(1+2\\cdot0+3\\cdot0^2-4\\cdot0^3)+(\\cdot0^3-\\cdot0^2-\\cdot0-1)\\cdot(12\\cdot0^2-6\\cdot0-2)}{(1+2\\cdot0+3\\cdot0^2-4\\cdot0^3)^2}=\\frac{(-1)\\cdot1+(-1)\\cdot(-2)}{(1)^2}=1$"
   ]
  },
  {
   "cell_type": "markdown",
   "metadata": {},
   "source": [
    "### 4. Найти угол наклона касательной к графику функции в точке:\n",
    "### $f(x)=\\sqrt{3x} \\cdot lnx, x_0=1$\n",
    "### $f(x_0)=\\sqrt{3\\cdot1}\\cdot ln1=\\sqrt3\\cdot0=0$"
   ]
  },
  {
   "cell_type": "markdown",
   "metadata": {},
   "source": [
    "### $f'(x)=(\\sqrt{3x} \\cdot lnx)'=(\\sqrt{3x})'\\cdot lnx+\\sqrt{3x}\\cdot(lnx)'=\\frac1{2\\sqrt{3x}}\\cdot3\\cdot lnx+\\sqrt{3x}\\cdot \\frac1{x}$\n",
    "### $f'(x_0)=\\frac1{2\\sqrt{3\\cdot1}}\\cdot3\\cdot ln1+\\sqrt{3\\cdot1}\\cdot \\frac1{1}=\\sqrt3$"
   ]
  },
  {
   "cell_type": "markdown",
   "metadata": {},
   "source": [
    "### $y=f(x_0)+f'(x_0)\\cdot(x-x_0)$\n",
    "### $y=0+\\sqrt3\\cdot(x-1)$\n",
    "### $y=\\sqrt{3} x-\\sqrt3$"
   ]
  }
 ],
 "metadata": {
  "kernelspec": {
   "display_name": "Python 3",
   "language": "python",
   "name": "python3"
  },
  "language_info": {
   "codemirror_mode": {
    "name": "ipython",
    "version": 3
   },
   "file_extension": ".py",
   "mimetype": "text/x-python",
   "name": "python",
   "nbconvert_exporter": "python",
   "pygments_lexer": "ipython3",
   "version": "3.8.5"
  }
 },
 "nbformat": 4,
 "nbformat_minor": 4
}
