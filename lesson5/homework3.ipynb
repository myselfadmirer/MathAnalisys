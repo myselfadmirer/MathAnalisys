{
 "cells": [
  {
   "cell_type": "markdown",
   "metadata": {},
   "source": [
    "## Тема 6 “Понятие о производной”"
   ]
  },
  {
   "cell_type": "markdown",
   "metadata": {},
   "source": [
    "### 1. Найти производную выражения (a - пустое задание): "
   ]
  },
  {
   "cell_type": "markdown",
   "metadata": {},
   "source": [
    "### a. $\\ (sinx \\cdot cosx)'=cosx \\cdot cosx + sinx \\cdot (-sinx)=cos^2x-sin^x=$"
   ]
  },
  {
   "cell_type": "markdown",
   "metadata": {},
   "source": [
    "### b. $\\ (ln(2x+1)^3)'=\\frac1{(2x+1)^3}\\cdot3(2x+1)^2\\cdot2=\\frac6{2x+1}$\n",
    "### Можно сразу вынести степень 3 перед ln и считать как:\n",
    "### $\\ (ln(2x+1)^3)'=(3\\cdot ln(2x+1))'=\\frac3{(2x+1)}\\cdot2=\\frac6{2x+1}$"
   ]
  },
  {
   "cell_type": "markdown",
   "metadata": {},
   "source": [
    "### c. $\\ (\\sqrt{sin^2(ln(x^3))})'=\\frac1{2\\sqrt{sin^2(ln(x^3))}}\\cdot2sin(ln(x^3))\\cdot\\frac1{x^3} \\cdot 3x^2=\\frac3{x}$"
   ]
  },
  {
   "cell_type": "markdown",
   "metadata": {},
   "source": [
    "### d. $\\ (\\frac{x^4}{ln(x)})'=\\frac{4x^3lnx-\\frac{x^4}{x}}{ln^2x}=\\frac{x^3(4lnx-1)}{ln^2x}$"
   ]
  }
 ],
 "metadata": {
  "kernelspec": {
   "display_name": "Python 3",
   "language": "python",
   "name": "python3"
  },
  "language_info": {
   "codemirror_mode": {
    "name": "ipython",
    "version": 3
   },
   "file_extension": ".py",
   "mimetype": "text/x-python",
   "name": "python",
   "nbconvert_exporter": "python",
   "pygments_lexer": "ipython3",
   "version": "3.8.5"
  }
 },
 "nbformat": 4,
 "nbformat_minor": 4
}
