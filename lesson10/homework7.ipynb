{
 "cells": [
  {
   "cell_type": "markdown",
   "metadata": {},
   "source": [
    "## Тема 8 “Понятие об интеграле”"
   ]
  },
  {
   "cell_type": "markdown",
   "metadata": {},
   "source": [
    "### 1. Найти неопределенный интеграл:"
   ]
  },
  {
   "cell_type": "markdown",
   "metadata": {},
   "source": [
    "### $\\int(2x^2-2x-1+sinx-cosx+lnx+e^x)dx=\\frac{2x^3}{3}-x^2-x-cosx-sinx+xlnx+e^x+C$"
   ]
  },
  {
   "cell_type": "markdown",
   "metadata": {},
   "source": [
    "### 2.Найти неопределенный интеграл:"
   ]
  },
  {
   "cell_type": "markdown",
   "metadata": {},
   "source": [
    "### $\\int(2x+6xz^2-5x^2y-3lnz)dx=x^2+3x^2z^2-\\frac{5x^3y}{3}-3xlnz+C$"
   ]
  },
  {
   "cell_type": "markdown",
   "metadata": {},
   "source": [
    "### 3.Вычислить определенный интеграл:"
   ]
  },
  {
   "cell_type": "markdown",
   "metadata": {},
   "source": [
    "### $\\int\\limits_0^\\pi(3x^2sin(2x))dx=(1)$\n",
    "### $U=3x^2\\ =>\\ dU=3x^2dx=6xdx$\n",
    "### $dV=sin(2x)dx\\ =>\\ V=-\\frac{cos(2x)}{2}$\n",
    "### $(1)=3x^2\\cdot(-\\frac{cos(2x)}{2})\\bigg|_0^\\pi+\\int\\limits_0^\\pi\\frac{cos(2x)}{2}\\cdot6xdx=(2)$\n",
    "### $U=6x\\ =>\\ dU=6dx$\n",
    "### $dV=\\frac{cos(2x)}{2}dx\\ =>\\ V=\\frac{sin(2x)}{4}$\n",
    "### $(2)=-3x^2\\cdot\\frac{cos(2x)}{2}+\\frac{3xsin(2x)}{2}\\bigg|_0^\\pi-6\\int\\limits_0^\\pi\\frac{sin(2x)}{4}dx=(3-6x^2)\\cdot\\frac{cos(2x)}{4}+\\frac{3xsin(2x)}{2}+C\\bigg|_0^\\pi=-\\frac{3\\pi^2}{2}$"
   ]
  },
  {
   "cell_type": "markdown",
   "metadata": {},
   "source": [
    "### 4. Найти неопределенный интеграл:"
   ]
  },
  {
   "cell_type": "markdown",
   "metadata": {},
   "source": [
    "### $\\int\\frac1{\\sqrt{x+1}}dx=\\int(x+1)^{-\\frac1{2}}d(x+1)=2\\sqrt{x+1}+C$"
   ]
  }
 ],
 "metadata": {
  "kernelspec": {
   "display_name": "Python 3",
   "language": "python",
   "name": "python3"
  },
  "language_info": {
   "codemirror_mode": {
    "name": "ipython",
    "version": 3
   },
   "file_extension": ".py",
   "mimetype": "text/x-python",
   "name": "python",
   "nbconvert_exporter": "python",
   "pygments_lexer": "ipython3",
   "version": "3.8.5"
  }
 },
 "nbformat": 4,
 "nbformat_minor": 4
}
